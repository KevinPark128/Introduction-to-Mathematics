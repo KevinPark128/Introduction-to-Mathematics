{
 "cells": [
  {
   "cell_type": "markdown",
   "metadata": {},
   "source": [
    "# This is a document outlining Tensors to Differential Forms\n",
    "---\n",
    "We will start from tensors, leading to differential forms, trying to maintain intuition along the way"
   ]
  },
  {
   "cell_type": "markdown",
   "metadata": {},
   "source": [
    "#### Notation :\n",
    "- Let $V$ be an $n$-dimensional vector space\n",
    "- Let $V^k = V \\times V \\times \\cdots \\times V$ \n",
    "- $(v_1, v_2, ..., v_k) \\in V^k$, where $v_i \\in V$ is a vector\n",
    "- Let $a_1, a_2, ..., a_n$ be a basis for $V$\n",
    "\n",
    "#### Definition 1 :\n",
    "A function $f : V^k \\to \\mathbb{R}$ is a $k$-tensor if it is multilinear (It is linear in each argument).\n",
    "\n",
    "#### Notation :\n",
    "- Let $\\mathcal{L}^k (V)$ be the set of all $k$-tensors.\n",
    "\n",
    "- The dual space $V^* = \\mathcal{L}^1 (V)$ is the set of linear transformations $f : V \\to \\mathbb{R}$"
   ]
  },
  {
   "cell_type": "markdown",
   "metadata": {},
   "source": [
    "## Vector Space of  $k$-tensors:\n",
    "\n",
    "$\\mathcal{L}^k (V)$ is a vector space whose dimension is $\\dim ( \\mathcal{L}^k (V) ) = n^k $\n",
    "\n",
    "Basis of $\\mathcal{L}^k (V)$ is the set $\\{ \\phi_I \\}$ where $I = (i_1, ..., i_k)$ is a collection of integers from $\\{ 1, ..., n \\}$ \n",
    "$$\n",
    "\\phi_I (a_{j_1}, ..., a_{j_k} ) = \n",
    "\\begin{cases}\n",
    "0 \\quad \\text{if } I \\neq J \\\\\n",
    "1 \\quad \\text{if } I = J\n",
    "\\end{cases}\n",
    "$$\n",
    "where $J = (j_1, ..., j_k)$ is another collection of integers from $\\{ 1, ..., n \\}$.\n",
    "\n",
    "$\\phi_I$ are called elementary $k$-tensors. They are determined by the set $I$ in this way: \n",
    "\n",
    "- Say you pick $k$ basis vectors $a_{j_1}, ..., a_{j_k}$ from $a_1, ..., a_n$. (there can be repeats) and you plug them into $\\phi_I$. Then $\\phi_I$ will be 1 if the collection $J = (j_1, ..., j_k)$ is exactly the same collection as $I = (i_1, ..., i_k)$.\n",
    "\n",
    "The dimension is \"how many collections of $I$ are there\" which is $n^k$"
   ]
  },
  {
   "cell_type": "markdown",
   "metadata": {},
   "source": [
    "#### Notice :\n",
    "- When $k = 1$, we have $V^*$ with vector space $\\phi_1, ..., \\phi_n$ with\n",
    "\n",
    "$$\n",
    "\\phi_i (a_j) = \n",
    "\\begin{cases}\n",
    "0 \\quad \\text{if } i \\neq j \\\\\n",
    "1 \\quad \\text{if } i = j \n",
    "\\end{cases}\n",
    "$$\n",
    "\n",
    "> This mapping can also be thought of as a projection mapping: If $x = x_1 a_1 + \\cdots x_n a_n \\in V$ is some vector, then $\\phi_i(x) = x_i$\n",
    "\n",
    "- In fact, elementary $k$-tensors is a multiplication of these $1$-tensor projection mapping things:\n",
    "\n",
    "$$\n",
    "\\phi_I (v_1, ..., v_k) = [ \\phi_{i_1} (v_1) ] \\cdot [ \\phi_{i_2} (v_2) ] \\cdots [ \\phi_{i_k} (v_k) ]\n",
    "$$\n",
    "\n",
    "> where it multiplies the $i_1$th element of vector $v_1$, $i_2$th element of vector $v_2$, ...\n",
    "\n",
    "> Another way to look at this is that $\\phi_I (x_1, ..., x_k)$ is a monomial of all components of all vectors $x_1, ..., x_k$. \n",
    "\n",
    "> A general $k$-tensor $f$ is a linear combination of this:\n",
    "\n",
    "$$\n",
    "f(u_1, ..., u_k) = \\sum_{I} c_I \\phi_I (u_1, ... , u_k)\n",
    "$$"
   ]
  },
  {
   "cell_type": "markdown",
   "metadata": {},
   "source": [
    "#### Examples :\n",
    "\n",
    "- The dot product map is a $2$-tensor:\n",
    "\n",
    "$$\n",
    "f(u,v) = u_1 v_1 + \\cdots + u_n v_n = \\phi_{1,1} (u,v) + \\phi_{2,2} (u,v) + \\cdots + \\phi_{n,n} (u,v)\n",
    "$$\n",
    "\n",
    "- A square matrix $A$ can be thought of as a $2$-tensor $f_A$ (sometimes called a bilinear form) by\n",
    "\n",
    "$$\n",
    "f_A (u,v) = v^T A u = \\sum_{i,j}^n A[i,j]~u_i~v_j\n",
    "$$\n",
    "\n",
    "> In fact, all $2$-tensors can be written as a bilinear form. The entry $A[i,j]$ specifies the scalar in front of $u_i~v_j$.\n",
    "\n",
    "> This concept is especially useful in continuum mechanics that studies mechanics on continuous bodies instead of points. Each point in a continuous 3D body undergoes stresses (internal force per unit area that neighbouring particles of the body exert on each other)\n",
    "\n",
    "> There are 9 stresses: 3 for each cross-section -- Pulling forces and shear forces.\n",
    "\n",
    "- Some place make the equivalence of tensors and multi-dimensional matrices. These matrices have to have the same length in each dimension for our definition (whereas in machine learning, they are k-arrays, each array having a different length). The $3$-tensor $f_A$ and the 3-dimensional matrix $A$ has the following relationship.\n",
    "\n",
    "$$\n",
    "f_A (u, v, w) = \\sum_{i,j,k}^n A[i,j,k]~u_i~v_j~w_k\n",
    "$$\n",
    "\n",
    "- Another example of a $k$-tensor is the determinant operation. Here, the $n$, dimension of the vector space $V$, and $k$ must be equal. An $n \\times n$ matrix is thought of as $n$ column vectors, and so\n",
    "\n",
    "$$\n",
    "\\det (u_1, ..., u_n) = \\det \n",
    "\\begin{bmatrix}\n",
    "| & | & | \\\\\n",
    "u_1 & \\cdots & u_n \\\\\n",
    "| & | & |\n",
    "\\end{bmatrix}\n",
    "$$\n",
    "\n",
    "> The determinant is a special tensor called an alternating tensor. More on that later.\n"
   ]
  },
  {
   "cell_type": "markdown",
   "metadata": {},
   "source": [
    "## Tensor Product\n",
    "\n"
   ]
  },
  {
   "cell_type": "markdown",
   "metadata": {},
   "source": [
    "## Alternating Tensors"
   ]
  },
  {
   "cell_type": "markdown",
   "metadata": {},
   "source": [
    "## Wedge Product"
   ]
  },
  {
   "cell_type": "markdown",
   "metadata": {},
   "source": [
    "## Differential Forms"
   ]
  },
  {
   "cell_type": "code",
   "execution_count": null,
   "metadata": {},
   "outputs": [],
   "source": []
  },
  {
   "cell_type": "code",
   "execution_count": null,
   "metadata": {},
   "outputs": [],
   "source": []
  },
  {
   "cell_type": "code",
   "execution_count": null,
   "metadata": {},
   "outputs": [],
   "source": []
  },
  {
   "cell_type": "code",
   "execution_count": null,
   "metadata": {},
   "outputs": [],
   "source": []
  }
 ],
 "metadata": {
  "kernelspec": {
   "display_name": "Python 3",
   "language": "python",
   "name": "python3"
  },
  "language_info": {
   "codemirror_mode": {
    "name": "ipython",
    "version": 3
   },
   "file_extension": ".py",
   "mimetype": "text/x-python",
   "name": "python",
   "nbconvert_exporter": "python",
   "pygments_lexer": "ipython3",
   "version": "3.7.6"
  }
 },
 "nbformat": 4,
 "nbformat_minor": 4
}
