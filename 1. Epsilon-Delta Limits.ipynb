{
 "cells": [
  {
   "cell_type": "markdown",
   "metadata": {},
   "source": [
    "# This is a document outlining the $\\varepsilon$ - $\\delta$ definition of the limit\n",
    "\n",
    "---\n",
    "\n",
    "We will build the definition from scratch to understand each component. First, here is the formal definition of the limit."
   ]
  },
  {
   "cell_type": "markdown",
   "metadata": {},
   "source": [
    "#### Definition 1: \n",
    "\n",
    "$\\lim_{x \\to a} f(x) = L$ means: $\\forall \\varepsilon > 0$, $\\exists \\delta > 0$ such that if $\\forall x$ where $0 < | x - a | < \\delta$, then $| f(x) - L | < \\varepsilon$\n",
    "\n",
    "This is typically called the epsilon - delta definition of the limit, and is (IMO) the first major hurdle to overcome in the study of mathematics. First, let us remove all of the symbols. This is how the definition is read in english.\n",
    "\n",
    "#### Definition 2:\n",
    "\n",
    "The *limit of $f(x)$ as $x$ approaches $a$ is $L$* means: *for all epsilon greater than zero*, *there exists a delta greater than zero* such that if *for all x* where *the length of $x - a$ is less than delta$, then *$the length of $f(x) - L$ is less than epsilon*\n",
    "\n",
    "Much more readable. However, there is still too much going on to really grasp this definition from reading this. Let us go through some thought experiments that outline how this definition works."
   ]
  },
  {
   "cell_type": "markdown",
   "metadata": {},
   "source": [
    "### Let us first consider $\\lim_{x \\to \\infty} f(x)$\n",
    "\n",
    "In this example, let us first consider the case of the limit as $x$ goes to infinity. Here is its formal definition:\n",
    "\n",
    "#### Definition 3:\n",
    "\n",
    "$\\lim_{x \\to \\infty} f(x) = L$ means: $\\forall \\varepsilon > 0$, $\\exists N > 0$ such that if $\\forall x$ where $x > N$, then $| f(x) - L | < \\varepsilon$\n",
    "\n",
    "Let's start with this definition, and let's investigate it with the canonical example\n",
    "\n",
    "$$\n",
    "f(x) = \\frac{1}{x}\n",
    "$$\n",
    "\n",
    "What is the limit of $\\frac{1}{x}$ as $x$ gets larger and larger? \n",
    "\n",
    "> It's $0$\n",
    "\n",
    "Yes but why?\n",
    "\n",
    "> I'm expecting an answer along the lines of: As $x$ gets bigger and bigger, $\\frac{1}{x}$ gets smaller and smaller.\n",
    "\n",
    "Okay, but can we get more technical than that? The function $\\frac{1}{x} + 1$ also gets smaller and smaller as $x$ gets bigger and bigger. To incorporate that $\\frac{1}{x}$ approaches $0$, let's say $\\frac{1}{x}$ gets closer and closer to $0$ as $x$ gets bigger and bigger. \n",
    "\n",
    "##### We can articulate this as a definition for any function $f(x)$ and limit $L$. \n",
    "\n",
    "We express ''closer'' as saying $|f(x) - L|$ gets smaller and smaller. The absolute value signs are required to ensure a positive length between $f(X)$ and $L$.\n"
   ]
  },
  {
   "cell_type": "markdown",
   "metadata": {},
   "source": [
    "But then what's stopping that explanation from working on a function like\n",
    "\n",
    "$$\n",
    "f(x) = \\sin (x)\n",
    "$$\n",
    "\n",
    "Just like for $\\frac{1}{x}$, as $x$ gets bigger and bigger, $\\sin (x)$ also gets closer and closer to $0$. Heck it even is $0$ at multiples of $\\pi$: $\\sin( k \\pi ) = 0$ for $k \\in \\mathbb{Z}$. We instead say $\\lim_{x \\to \\infty} \\sin (x)$ does not exist so what gives?\n",
    "\n",
    "> Well $\\sin (x)$ also goes back up to $1$ on multiples of $\\frac{\\pi}{2}$ which is far away from $0$..\n",
    "\n",
    "So we do require that the function doesn't get further away from $0$ as $x$ increases. Let's formalize that by saying there must be a (large) threshold, let's call it $N$, where if $x > N$, then the distance between our function $f(x)$ and limit $L$ can't be bigger than some (small) target, let's say $\\frac{1}{2}$.\n",
    "\n",
    "**Written as:** $\\exists N$ such that if $\\forall x$ where $x > N$, then $|f(x) - L | < \\frac{1}{2}$\n",
    "\n",
    "> No this won't work for $\\frac{1}{3} \\sin (x)$ whose value is always less than $\\frac{1}{2}$..\n",
    "\n",
    "Ahh, so we should make sure we can find a threshold $N$ for every target value. Let's use the variable $\\varepsilon$ for this target value. We only need to check for positive targets, as the length $| f(x) - L |$ will always be positive.\n",
    "\n",
    "**Written as:** $\\forall \\varepsilon > 0$, $\\exists N > 0$ such that if $\\forall x$ where $x > N$, then $| f(x) - L | < \\varepsilon$\n",
    "\n",
    "**Remark:** The threshold $N$ will depend on target $\\varepsilon$!\n",
    "\n",
    "So there we have it. We've recovered the definition of the limit as $x$ approaches $\\infty$."
   ]
  },
  {
   "cell_type": "markdown",
   "metadata": {},
   "source": [
    "### Now let us consider the general case $\\lim_{x \\to a} f(x)$"
   ]
  },
  {
   "cell_type": "markdown",
   "metadata": {},
   "source": [
    "We have an idea of what the epsilon does. It is a target -- as $x$ approaches the value $a$ (the above case being $a = \\infty$), we want the value $| f(x) - L | $ to be less than epsilon. \n",
    "\n",
    "Now let us formalize as $x$ approaches $a$ where $a$ is not infinity.\n",
    "\n",
    "$x$ getting closer to infinity was expressed as there is a large threshold $N$ such that if $x > N$, then (blah)...\n",
    "\n",
    "Now $x$ getting closer to $a$ should be expressed as when the distance between $x$ and $a$ is getting smaller and smaller. Let's use $\\delta$ as the threshold variable instead of $N$ (because we typically look at $N$ as a large number), and we should investigate the distance between $x$ and $a$ and make sure it is smaller than $\\delta$.\n",
    "\n",
    "**Written as:** $\\forall \\varepsilon > 0$, $\\exists \\delta > 0$ such that if $\\forall x$ where $| x - a| < \\delta$, then $| f(x) - L | < \\varepsilon$\n",
    "\n",
    "Are we done? Not quite.. you may notice a subtle difference between this and definition 1 written above. That is, we require that $0 < | x - a |$. This is technical requirement as our function $f(x)$ may not be defined at $a$ ($f(a)$ may not exist), but it is an important point which exemplifies the entire point of this idea of the limit. We care about the limiting value of our function, even when it may not be defined there! Thus:\n",
    "\n",
    "$\\lim_{x \\to a} f(x) = L$ means: $\\forall \\varepsilon > 0$, $\\exists \\delta > 0$ such that if $\\forall x$ where $0 < | x - a | < \\delta$, then $| f(x) - L | < \\varepsilon$"
   ]
  },
  {
   "cell_type": "code",
   "execution_count": null,
   "metadata": {},
   "outputs": [],
   "source": []
  }
 ],
 "metadata": {
  "kernelspec": {
   "display_name": "Python 3",
   "language": "python",
   "name": "python3"
  },
  "language_info": {
   "codemirror_mode": {
    "name": "ipython",
    "version": 3
   },
   "file_extension": ".py",
   "mimetype": "text/x-python",
   "name": "python",
   "nbconvert_exporter": "python",
   "pygments_lexer": "ipython3",
   "version": "3.7.6"
  }
 },
 "nbformat": 4,
 "nbformat_minor": 4
}
